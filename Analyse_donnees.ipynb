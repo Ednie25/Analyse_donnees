{
 "cells": [
  {
   "cell_type": "markdown",
   "metadata": {
    "deletable": false,
    "editable": false
   },
   "source": [
    "---"
   ]
  },
  {
   "cell_type": "markdown",
   "metadata": {
    "deletable": false,
    "editable": false,
    "nbgrader": {
     "cell_type": "markdown",
     "checksum": "394aefd4825159f03a66a43907e1676e",
     "grade": false,
     "grade_id": "cell-0a9e072ac3c65447",
     "locked": true,
     "schema_version": 3,
     "solution": false,
     "task": false
    }
   },
   "source": [
    "# Instructions"
   ]
  },
  {
   "cell_type": "markdown",
   "metadata": {
    "deletable": false,
    "editable": false,
    "nbgrader": {
     "cell_type": "markdown",
     "checksum": "de71d6097b4b022346e923fe8d983bf9",
     "grade": false,
     "grade_id": "cell-b6537d743cae0639",
     "locked": true,
     "schema_version": 3,
     "solution": false,
     "task": false
    }
   },
   "source": [
    "# Chargement des modules"
   ]
  },
  {
   "cell_type": "code",
   "execution_count": 74,
   "metadata": {
    "deletable": false,
    "nbgrader": {
     "cell_type": "code",
     "checksum": "46420ae364f4aac7c213a3b8ff997e32",
     "grade": true,
     "grade_id": "cell-d9af6da0e0090c23",
     "locked": false,
     "points": 0,
     "schema_version": 3,
     "solution": true,
     "task": false
    }
   },
   "outputs": [],
   "source": [
    "# Ecrivez votre code ci-dessous\n",
    "import numpy as np\n",
    "import pandas as pd\n",
    "import matplotlib\n",
    "import matplotlib.pyplot as plt"
   ]
  },
  {
   "cell_type": "markdown",
   "metadata": {
    "deletable": false,
    "editable": false,
    "nbgrader": {
     "cell_type": "markdown",
     "checksum": "b19ca406a7e5c3e39854d6917f78e6e8",
     "grade": false,
     "grade_id": "cell-293dffd64dc4773e",
     "locked": true,
     "schema_version": 3,
     "solution": false,
     "task": false
    }
   },
   "source": [
    "# Données"
   ]
  },
  {
   "cell_type": "markdown",
   "metadata": {
    "deletable": false,
    "editable": false,
    "nbgrader": {
     "cell_type": "markdown",
     "checksum": "61469f644032d5fc85cc51419ec18caf",
     "grade": false,
     "grade_id": "cell-f5f7f219f0b1385f",
     "locked": true,
     "schema_version": 3,
     "solution": false,
     "task": false
    }
   },
   "source": [
    "## Source des données"
   ]
  },
  {
   "cell_type": "markdown",
   "metadata": {},
   "source": [
    "Base portant sur le credit scoring :\n",
    "https://www.kaggle.com/kashnitsky/mlcourse?select=credit_scoring_sample.csv"
   ]
  },
  {
   "cell_type": "markdown",
   "metadata": {
    "deletable": false,
    "editable": false,
    "nbgrader": {
     "cell_type": "markdown",
     "checksum": "92c0f3f8033579609defafd20a41563a",
     "grade": false,
     "grade_id": "cell-20b1ba05d4e0985c",
     "locked": true,
     "schema_version": 3,
     "solution": false,
     "task": false
    }
   },
   "source": [
    "## Chargement des données "
   ]
  },
  {
   "cell_type": "code",
   "execution_count": 75,
   "metadata": {
    "deletable": false,
    "nbgrader": {
     "cell_type": "code",
     "checksum": "320e1f297330c8748e3a1e284335c87f",
     "grade": true,
     "grade_id": "cell-4bb5e9dec0a81c5c",
     "locked": false,
     "points": 1,
     "schema_version": 3,
     "solution": true,
     "task": false
    }
   },
   "outputs": [],
   "source": [
    "df = pd.read_csv('data\\credit_scoring_sample.csv')\n",
    "\n"
   ]
  },
  {
   "cell_type": "markdown",
   "metadata": {
    "deletable": false,
    "editable": false,
    "nbgrader": {
     "cell_type": "markdown",
     "checksum": "657a9c045be8b62791664c3ea49e55fe",
     "grade": false,
     "grade_id": "cell-56eccdc233654ccc",
     "locked": true,
     "schema_version": 3,
     "solution": false,
     "task": false
    }
   },
   "source": [
    "# Première analyse"
   ]
  },
  {
   "cell_type": "markdown",
   "metadata": {
    "deletable": false,
    "editable": false,
    "nbgrader": {
     "cell_type": "markdown",
     "checksum": "e9b6e90ba62991969d5f752f455d83b3",
     "grade": false,
     "grade_id": "cell-03323950abafff21",
     "locked": true,
     "schema_version": 3,
     "solution": false,
     "task": false
    }
   },
   "source": [
    "## Affichage de lignes du DataFrame "
   ]
  },
  {
   "cell_type": "markdown",
   "metadata": {
    "deletable": false,
    "editable": false,
    "nbgrader": {
     "cell_type": "markdown",
     "checksum": "77607d13b49e78c3452dff56358f86b2",
     "grade": false,
     "grade_id": "cell-074c0590507425ed",
     "locked": true,
     "schema_version": 3,
     "solution": false,
     "task": false
    }
   },
   "source": [
    "Afficher les premières lignes du DataFrame :"
   ]
  },
  {
   "cell_type": "code",
   "execution_count": 76,
   "metadata": {
    "deletable": false,
    "nbgrader": {
     "cell_type": "code",
     "checksum": "b87d1a3bf4b5efb46f2cef81e9d0590d",
     "grade": true,
     "grade_id": "cell-640353783cdc4f9b",
     "locked": false,
     "points": 1,
     "schema_version": 3,
     "solution": true,
     "task": false
    }
   },
   "outputs": [
    {
     "data": {
      "text/html": [
       "<div>\n",
       "<style scoped>\n",
       "    .dataframe tbody tr th:only-of-type {\n",
       "        vertical-align: middle;\n",
       "    }\n",
       "\n",
       "    .dataframe tbody tr th {\n",
       "        vertical-align: top;\n",
       "    }\n",
       "\n",
       "    .dataframe thead th {\n",
       "        text-align: right;\n",
       "    }\n",
       "</style>\n",
       "<table border=\"1\" class=\"dataframe\">\n",
       "  <thead>\n",
       "    <tr style=\"text-align: right;\">\n",
       "      <th></th>\n",
       "      <th>SeriousDlqin2yrs</th>\n",
       "      <th>age</th>\n",
       "      <th>NumberOfTime30-59DaysPastDueNotWorse</th>\n",
       "      <th>DebtRatio</th>\n",
       "      <th>NumberOfTimes90DaysLate</th>\n",
       "      <th>NumberOfTime60-89DaysPastDueNotWorse</th>\n",
       "      <th>MonthlyIncome</th>\n",
       "      <th>NumberOfDependents</th>\n",
       "    </tr>\n",
       "  </thead>\n",
       "  <tbody>\n",
       "    <tr>\n",
       "      <th>0</th>\n",
       "      <td>0</td>\n",
       "      <td>64</td>\n",
       "      <td>0</td>\n",
       "      <td>0.249908</td>\n",
       "      <td>0</td>\n",
       "      <td>0</td>\n",
       "      <td>8158.0</td>\n",
       "      <td>0.0</td>\n",
       "    </tr>\n",
       "    <tr>\n",
       "      <th>1</th>\n",
       "      <td>0</td>\n",
       "      <td>58</td>\n",
       "      <td>0</td>\n",
       "      <td>3870.000000</td>\n",
       "      <td>0</td>\n",
       "      <td>0</td>\n",
       "      <td>NaN</td>\n",
       "      <td>0.0</td>\n",
       "    </tr>\n",
       "    <tr>\n",
       "      <th>2</th>\n",
       "      <td>0</td>\n",
       "      <td>41</td>\n",
       "      <td>0</td>\n",
       "      <td>0.456127</td>\n",
       "      <td>0</td>\n",
       "      <td>0</td>\n",
       "      <td>6666.0</td>\n",
       "      <td>0.0</td>\n",
       "    </tr>\n",
       "    <tr>\n",
       "      <th>3</th>\n",
       "      <td>0</td>\n",
       "      <td>43</td>\n",
       "      <td>0</td>\n",
       "      <td>0.000190</td>\n",
       "      <td>0</td>\n",
       "      <td>0</td>\n",
       "      <td>10500.0</td>\n",
       "      <td>2.0</td>\n",
       "    </tr>\n",
       "    <tr>\n",
       "      <th>4</th>\n",
       "      <td>1</td>\n",
       "      <td>49</td>\n",
       "      <td>0</td>\n",
       "      <td>0.271820</td>\n",
       "      <td>0</td>\n",
       "      <td>0</td>\n",
       "      <td>400.0</td>\n",
       "      <td>0.0</td>\n",
       "    </tr>\n",
       "  </tbody>\n",
       "</table>\n",
       "</div>"
      ],
      "text/plain": [
       "   SeriousDlqin2yrs  age  NumberOfTime30-59DaysPastDueNotWorse    DebtRatio  \\\n",
       "0                 0   64                                     0     0.249908   \n",
       "1                 0   58                                     0  3870.000000   \n",
       "2                 0   41                                     0     0.456127   \n",
       "3                 0   43                                     0     0.000190   \n",
       "4                 1   49                                     0     0.271820   \n",
       "\n",
       "   NumberOfTimes90DaysLate  NumberOfTime60-89DaysPastDueNotWorse  \\\n",
       "0                        0                                     0   \n",
       "1                        0                                     0   \n",
       "2                        0                                     0   \n",
       "3                        0                                     0   \n",
       "4                        0                                     0   \n",
       "\n",
       "   MonthlyIncome  NumberOfDependents  \n",
       "0         8158.0                 0.0  \n",
       "1            NaN                 0.0  \n",
       "2         6666.0                 0.0  \n",
       "3        10500.0                 2.0  \n",
       "4          400.0                 0.0  "
      ]
     },
     "execution_count": 76,
     "metadata": {},
     "output_type": "execute_result"
    }
   ],
   "source": [
    "df.head()\n"
   ]
  },
  {
   "cell_type": "markdown",
   "metadata": {
    "deletable": false,
    "editable": false,
    "nbgrader": {
     "cell_type": "markdown",
     "checksum": "d81dcef2f859eb162e22e844544c8f2a",
     "grade": false,
     "grade_id": "cell-da7ed15f09fee12b",
     "locked": true,
     "schema_version": 3,
     "solution": false,
     "task": false
    }
   },
   "source": [
    "Les dernières lignes :"
   ]
  },
  {
   "cell_type": "code",
   "execution_count": 77,
   "metadata": {
    "deletable": false,
    "nbgrader": {
     "cell_type": "code",
     "checksum": "84fd24471336b68ee16f55c204dfcfc2",
     "grade": true,
     "grade_id": "cell-5fc718e278c5c7d7",
     "locked": false,
     "points": 0,
     "schema_version": 3,
     "solution": true,
     "task": false
    }
   },
   "outputs": [
    {
     "data": {
      "text/html": [
       "<div>\n",
       "<style scoped>\n",
       "    .dataframe tbody tr th:only-of-type {\n",
       "        vertical-align: middle;\n",
       "    }\n",
       "\n",
       "    .dataframe tbody tr th {\n",
       "        vertical-align: top;\n",
       "    }\n",
       "\n",
       "    .dataframe thead th {\n",
       "        text-align: right;\n",
       "    }\n",
       "</style>\n",
       "<table border=\"1\" class=\"dataframe\">\n",
       "  <thead>\n",
       "    <tr style=\"text-align: right;\">\n",
       "      <th></th>\n",
       "      <th>SeriousDlqin2yrs</th>\n",
       "      <th>age</th>\n",
       "      <th>NumberOfTime30-59DaysPastDueNotWorse</th>\n",
       "      <th>DebtRatio</th>\n",
       "      <th>NumberOfTimes90DaysLate</th>\n",
       "      <th>NumberOfTime60-89DaysPastDueNotWorse</th>\n",
       "      <th>MonthlyIncome</th>\n",
       "      <th>NumberOfDependents</th>\n",
       "    </tr>\n",
       "  </thead>\n",
       "  <tbody>\n",
       "    <tr>\n",
       "      <th>45058</th>\n",
       "      <td>1</td>\n",
       "      <td>31</td>\n",
       "      <td>0</td>\n",
       "      <td>0.824725</td>\n",
       "      <td>0</td>\n",
       "      <td>0</td>\n",
       "      <td>3000.0</td>\n",
       "      <td>1.0</td>\n",
       "    </tr>\n",
       "    <tr>\n",
       "      <th>45059</th>\n",
       "      <td>0</td>\n",
       "      <td>49</td>\n",
       "      <td>0</td>\n",
       "      <td>6530.000000</td>\n",
       "      <td>0</td>\n",
       "      <td>0</td>\n",
       "      <td>0.0</td>\n",
       "      <td>5.0</td>\n",
       "    </tr>\n",
       "    <tr>\n",
       "      <th>45060</th>\n",
       "      <td>1</td>\n",
       "      <td>38</td>\n",
       "      <td>0</td>\n",
       "      <td>0.475841</td>\n",
       "      <td>0</td>\n",
       "      <td>0</td>\n",
       "      <td>3000.0</td>\n",
       "      <td>2.0</td>\n",
       "    </tr>\n",
       "    <tr>\n",
       "      <th>45061</th>\n",
       "      <td>0</td>\n",
       "      <td>47</td>\n",
       "      <td>1</td>\n",
       "      <td>0.485198</td>\n",
       "      <td>0</td>\n",
       "      <td>0</td>\n",
       "      <td>11720.0</td>\n",
       "      <td>5.0</td>\n",
       "    </tr>\n",
       "    <tr>\n",
       "      <th>45062</th>\n",
       "      <td>1</td>\n",
       "      <td>45</td>\n",
       "      <td>2</td>\n",
       "      <td>0.802982</td>\n",
       "      <td>0</td>\n",
       "      <td>0</td>\n",
       "      <td>9120.0</td>\n",
       "      <td>2.0</td>\n",
       "    </tr>\n",
       "  </tbody>\n",
       "</table>\n",
       "</div>"
      ],
      "text/plain": [
       "       SeriousDlqin2yrs  age  NumberOfTime30-59DaysPastDueNotWorse  \\\n",
       "45058                 1   31                                     0   \n",
       "45059                 0   49                                     0   \n",
       "45060                 1   38                                     0   \n",
       "45061                 0   47                                     1   \n",
       "45062                 1   45                                     2   \n",
       "\n",
       "         DebtRatio  NumberOfTimes90DaysLate  \\\n",
       "45058     0.824725                        0   \n",
       "45059  6530.000000                        0   \n",
       "45060     0.475841                        0   \n",
       "45061     0.485198                        0   \n",
       "45062     0.802982                        0   \n",
       "\n",
       "       NumberOfTime60-89DaysPastDueNotWorse  MonthlyIncome  NumberOfDependents  \n",
       "45058                                     0         3000.0                 1.0  \n",
       "45059                                     0            0.0                 5.0  \n",
       "45060                                     0         3000.0                 2.0  \n",
       "45061                                     0        11720.0                 5.0  \n",
       "45062                                     0         9120.0                 2.0  "
      ]
     },
     "execution_count": 77,
     "metadata": {},
     "output_type": "execute_result"
    }
   ],
   "source": [
    "last_rows = df.tail(5)\n",
    "last_rows.head()\n"
   ]
  },
  {
   "cell_type": "markdown",
   "metadata": {
    "deletable": false,
    "editable": false,
    "nbgrader": {
     "cell_type": "markdown",
     "checksum": "b82b4eb5eedbc21c9e5f664653e3f696",
     "grade": false,
     "grade_id": "cell-bfd883e1e3560d8d",
     "locked": true,
     "schema_version": 3,
     "solution": false,
     "task": false
    }
   },
   "source": [
    "Ainsi que des lignes prises au hasard :"
   ]
  },
  {
   "cell_type": "code",
   "execution_count": 78,
   "metadata": {
    "deletable": false,
    "nbgrader": {
     "cell_type": "code",
     "checksum": "7ba87f08796ad799ab08471446e7f2e0",
     "grade": true,
     "grade_id": "cell-4f041210bc4c8b9c",
     "locked": false,
     "points": 1,
     "schema_version": 3,
     "solution": true,
     "task": false
    }
   },
   "outputs": [
    {
     "data": {
      "text/html": [
       "<div>\n",
       "<style scoped>\n",
       "    .dataframe tbody tr th:only-of-type {\n",
       "        vertical-align: middle;\n",
       "    }\n",
       "\n",
       "    .dataframe tbody tr th {\n",
       "        vertical-align: top;\n",
       "    }\n",
       "\n",
       "    .dataframe thead th {\n",
       "        text-align: right;\n",
       "    }\n",
       "</style>\n",
       "<table border=\"1\" class=\"dataframe\">\n",
       "  <thead>\n",
       "    <tr style=\"text-align: right;\">\n",
       "      <th></th>\n",
       "      <th>SeriousDlqin2yrs</th>\n",
       "      <th>age</th>\n",
       "      <th>NumberOfTime30-59DaysPastDueNotWorse</th>\n",
       "      <th>DebtRatio</th>\n",
       "      <th>NumberOfTimes90DaysLate</th>\n",
       "      <th>NumberOfTime60-89DaysPastDueNotWorse</th>\n",
       "      <th>MonthlyIncome</th>\n",
       "      <th>NumberOfDependents</th>\n",
       "    </tr>\n",
       "  </thead>\n",
       "  <tbody>\n",
       "    <tr>\n",
       "      <th>39881</th>\n",
       "      <td>1</td>\n",
       "      <td>62</td>\n",
       "      <td>0</td>\n",
       "      <td>0.443828</td>\n",
       "      <td>0</td>\n",
       "      <td>0</td>\n",
       "      <td>6666.0</td>\n",
       "      <td>3.0</td>\n",
       "    </tr>\n",
       "    <tr>\n",
       "      <th>39996</th>\n",
       "      <td>0</td>\n",
       "      <td>45</td>\n",
       "      <td>0</td>\n",
       "      <td>0.462022</td>\n",
       "      <td>0</td>\n",
       "      <td>0</td>\n",
       "      <td>8583.0</td>\n",
       "      <td>2.0</td>\n",
       "    </tr>\n",
       "    <tr>\n",
       "      <th>9658</th>\n",
       "      <td>0</td>\n",
       "      <td>48</td>\n",
       "      <td>0</td>\n",
       "      <td>0.399238</td>\n",
       "      <td>0</td>\n",
       "      <td>0</td>\n",
       "      <td>5249.0</td>\n",
       "      <td>1.0</td>\n",
       "    </tr>\n",
       "    <tr>\n",
       "      <th>14599</th>\n",
       "      <td>0</td>\n",
       "      <td>48</td>\n",
       "      <td>0</td>\n",
       "      <td>0.178549</td>\n",
       "      <td>0</td>\n",
       "      <td>0</td>\n",
       "      <td>4782.0</td>\n",
       "      <td>1.0</td>\n",
       "    </tr>\n",
       "    <tr>\n",
       "      <th>18931</th>\n",
       "      <td>0</td>\n",
       "      <td>50</td>\n",
       "      <td>0</td>\n",
       "      <td>0.611680</td>\n",
       "      <td>0</td>\n",
       "      <td>0</td>\n",
       "      <td>2636.0</td>\n",
       "      <td>1.0</td>\n",
       "    </tr>\n",
       "  </tbody>\n",
       "</table>\n",
       "</div>"
      ],
      "text/plain": [
       "       SeriousDlqin2yrs  age  NumberOfTime30-59DaysPastDueNotWorse  DebtRatio  \\\n",
       "39881                 1   62                                     0   0.443828   \n",
       "39996                 0   45                                     0   0.462022   \n",
       "9658                  0   48                                     0   0.399238   \n",
       "14599                 0   48                                     0   0.178549   \n",
       "18931                 0   50                                     0   0.611680   \n",
       "\n",
       "       NumberOfTimes90DaysLate  NumberOfTime60-89DaysPastDueNotWorse  \\\n",
       "39881                        0                                     0   \n",
       "39996                        0                                     0   \n",
       "9658                         0                                     0   \n",
       "14599                        0                                     0   \n",
       "18931                        0                                     0   \n",
       "\n",
       "       MonthlyIncome  NumberOfDependents  \n",
       "39881         6666.0                 3.0  \n",
       "39996         8583.0                 2.0  \n",
       "9658          5249.0                 1.0  \n",
       "14599         4782.0                 1.0  \n",
       "18931         2636.0                 1.0  "
      ]
     },
     "execution_count": 78,
     "metadata": {},
     "output_type": "execute_result"
    }
   ],
   "source": [
    "df_aleatoire = df.sample(n=5)\n",
    "df_aleatoire.head()"
   ]
  },
  {
   "cell_type": "markdown",
   "metadata": {},
   "source": [
    "## Caractéristiques des colonnes "
   ]
  },
  {
   "cell_type": "markdown",
   "metadata": {
    "deletable": false,
    "editable": false,
    "nbgrader": {
     "cell_type": "markdown",
     "checksum": "d4fd79a2df103eabe66fd89dcdcaba59",
     "grade": false,
     "grade_id": "cell-b479f40b8169ed38",
     "locked": true,
     "schema_version": 3,
     "solution": false,
     "task": false
    }
   },
   "source": [
    "Vérifier le type des colonnes de ce DataFrame"
   ]
  },
  {
   "cell_type": "code",
   "execution_count": 79,
   "metadata": {
    "deletable": false,
    "nbgrader": {
     "cell_type": "code",
     "checksum": "14b6290a86651362b0d702b97b70b5d0",
     "grade": true,
     "grade_id": "cell-0976de22988c96cd",
     "locked": false,
     "points": 1,
     "schema_version": 3,
     "solution": true,
     "task": false
    }
   },
   "outputs": [
    {
     "data": {
      "text/plain": [
       "SeriousDlqin2yrs                          int64\n",
       "age                                       int64\n",
       "NumberOfTime30-59DaysPastDueNotWorse      int64\n",
       "DebtRatio                               float64\n",
       "NumberOfTimes90DaysLate                   int64\n",
       "NumberOfTime60-89DaysPastDueNotWorse      int64\n",
       "MonthlyIncome                           float64\n",
       "NumberOfDependents                      float64\n",
       "dtype: object"
      ]
     },
     "execution_count": 79,
     "metadata": {},
     "output_type": "execute_result"
    }
   ],
   "source": [
    "df.dtypes\n"
   ]
  },
  {
   "cell_type": "markdown",
   "metadata": {},
   "source": [
    "\n",
    "On remarque que les variables de cette base de données sont principalement de deux types, entiers (int) ou flottants (float).\n",
    "Pour rendre les analyses futures plus évidentes, un changement de nom de certaines variables est nécessaire. La première variable 'SeriousDlqin2yrs' sera renommée  'Client_Qualite', la variable 'NumberOfTime30-59DaysPastDueNotWorse' deviendra la variable 'retard_30_59_jours', la variable 'NumberOfTime60-89DaysPastDueNotWorse'\n",
    "sera 'retard_60_89_jours' et enfin la variable 'NumberOfDependents' deviendra la variable 'Nbre_de_personnes_a_charge'.\n",
    "Par ailleurs, la variable renommée 'Client_Qualite' sera transformée en variable catégorielle binaire pour faciliter les croisements car c'est une modalité.\n"
   ]
  },
  {
   "cell_type": "markdown",
   "metadata": {
    "deletable": false,
    "editable": false,
    "nbgrader": {
     "cell_type": "markdown",
     "checksum": "3cc9200cddda0a2c7a32fd0d76b9b1ea",
     "grade": false,
     "grade_id": "cell-69036a7dede1d075",
     "locked": true,
     "schema_version": 3,
     "solution": false,
     "task": false
    }
   },
   "source": [
    "# Nettoyage et traitement des données "
   ]
  },
  {
   "cell_type": "code",
   "execution_count": 80,
   "metadata": {},
   "outputs": [
    {
     "data": {
      "text/html": [
       "<div>\n",
       "<style scoped>\n",
       "    .dataframe tbody tr th:only-of-type {\n",
       "        vertical-align: middle;\n",
       "    }\n",
       "\n",
       "    .dataframe tbody tr th {\n",
       "        vertical-align: top;\n",
       "    }\n",
       "\n",
       "    .dataframe thead th {\n",
       "        text-align: right;\n",
       "    }\n",
       "</style>\n",
       "<table border=\"1\" class=\"dataframe\">\n",
       "  <thead>\n",
       "    <tr style=\"text-align: right;\">\n",
       "      <th></th>\n",
       "      <th>Client_Qualite</th>\n",
       "      <th>age</th>\n",
       "      <th>retard_30_59_jours</th>\n",
       "      <th>DebtRatio</th>\n",
       "      <th>NumberOfTimes90DaysLate</th>\n",
       "      <th>retard_60_89_jours</th>\n",
       "      <th>MonthlyIncome</th>\n",
       "      <th>Nbre_de_personnes_a_charge</th>\n",
       "    </tr>\n",
       "  </thead>\n",
       "  <tbody>\n",
       "    <tr>\n",
       "      <th>0</th>\n",
       "      <td>0</td>\n",
       "      <td>64</td>\n",
       "      <td>0</td>\n",
       "      <td>0.249908</td>\n",
       "      <td>0</td>\n",
       "      <td>0</td>\n",
       "      <td>8158.0</td>\n",
       "      <td>0.0</td>\n",
       "    </tr>\n",
       "    <tr>\n",
       "      <th>1</th>\n",
       "      <td>0</td>\n",
       "      <td>58</td>\n",
       "      <td>0</td>\n",
       "      <td>3870.000000</td>\n",
       "      <td>0</td>\n",
       "      <td>0</td>\n",
       "      <td>NaN</td>\n",
       "      <td>0.0</td>\n",
       "    </tr>\n",
       "    <tr>\n",
       "      <th>2</th>\n",
       "      <td>0</td>\n",
       "      <td>41</td>\n",
       "      <td>0</td>\n",
       "      <td>0.456127</td>\n",
       "      <td>0</td>\n",
       "      <td>0</td>\n",
       "      <td>6666.0</td>\n",
       "      <td>0.0</td>\n",
       "    </tr>\n",
       "    <tr>\n",
       "      <th>3</th>\n",
       "      <td>0</td>\n",
       "      <td>43</td>\n",
       "      <td>0</td>\n",
       "      <td>0.000190</td>\n",
       "      <td>0</td>\n",
       "      <td>0</td>\n",
       "      <td>10500.0</td>\n",
       "      <td>2.0</td>\n",
       "    </tr>\n",
       "    <tr>\n",
       "      <th>4</th>\n",
       "      <td>1</td>\n",
       "      <td>49</td>\n",
       "      <td>0</td>\n",
       "      <td>0.271820</td>\n",
       "      <td>0</td>\n",
       "      <td>0</td>\n",
       "      <td>400.0</td>\n",
       "      <td>0.0</td>\n",
       "    </tr>\n",
       "  </tbody>\n",
       "</table>\n",
       "</div>"
      ],
      "text/plain": [
       "   Client_Qualite  age  retard_30_59_jours    DebtRatio  \\\n",
       "0               0   64                   0     0.249908   \n",
       "1               0   58                   0  3870.000000   \n",
       "2               0   41                   0     0.456127   \n",
       "3               0   43                   0     0.000190   \n",
       "4               1   49                   0     0.271820   \n",
       "\n",
       "   NumberOfTimes90DaysLate  retard_60_89_jours  MonthlyIncome  \\\n",
       "0                        0                   0         8158.0   \n",
       "1                        0                   0            NaN   \n",
       "2                        0                   0         6666.0   \n",
       "3                        0                   0        10500.0   \n",
       "4                        0                   0          400.0   \n",
       "\n",
       "   Nbre_de_personnes_a_charge  \n",
       "0                         0.0  \n",
       "1                         0.0  \n",
       "2                         0.0  \n",
       "3                         2.0  \n",
       "4                         0.0  "
      ]
     },
     "execution_count": 80,
     "metadata": {},
     "output_type": "execute_result"
    }
   ],
   "source": [
    "df=df.rename(columns={\"SeriousDlqin2yrs\": \"Client_Qualite\", \"NumberOfTime30-59DaysPastDueNotWorse\": \"retard_30_59_jours\",\"NumberOfTime60-89DaysPastDueNotWorse\": \"retard_60_89_jours\", \"NumberOfDependents\":\"Nbre_de_personnes_a_charge\"  })\n",
    "df.head()"
   ]
  },
  {
   "cell_type": "code",
   "execution_count": 81,
   "metadata": {},
   "outputs": [
    {
     "data": {
      "text/plain": [
       "(45063, 8)"
      ]
     },
     "execution_count": 81,
     "metadata": {},
     "output_type": "execute_result"
    }
   ],
   "source": [
    "df.shape"
   ]
  },
  {
   "cell_type": "markdown",
   "metadata": {},
   "source": [
    "La table de données contient 8 colonnes et 45063 lignes"
   ]
  },
  {
   "cell_type": "code",
   "execution_count": 82,
   "metadata": {},
   "outputs": [],
   "source": [
    "# Dans cette partie, nous éliminons les outliers des variables retard_30_59_jours et retard_60_89_jours\n",
    "df = df.drop(df[df.retard_30_59_jours == 98].index)\n",
    "df = df.drop(df[df.retard_60_89_jours == 98].index)\n",
    "df = df.drop(df[df.retard_30_59_jours == 96].index)\n",
    "df = df.drop(df[df.retard_60_89_jours == 96].index)"
   ]
  },
  {
   "cell_type": "code",
   "execution_count": 83,
   "metadata": {},
   "outputs": [
    {
     "data": {
      "text/plain": [
       "(44885, 8)"
      ]
     },
     "execution_count": 83,
     "metadata": {},
     "output_type": "execute_result"
    }
   ],
   "source": [
    "df.shape"
   ]
  },
  {
   "cell_type": "markdown",
   "metadata": {},
   "source": [
    "On remarque une diminution dans le nombre de lignes qui n'est pas significative et donc n'impactera pas les analyses. "
   ]
  },
  {
   "cell_type": "code",
   "execution_count": 84,
   "metadata": {},
   "outputs": [
    {
     "name": "stdout",
     "output_type": "stream",
     "text": [
      "2000.0\n",
      "11311.600000000006\n"
     ]
    }
   ],
   "source": [
    "# On traitera aussi la variable MonthlyIncome en considérant les déciles les plus extrèmes (10% et 90%) \n",
    "print(df['MonthlyIncome'].quantile(0.10))\n",
    "print(df['MonthlyIncome'].quantile(0.90))"
   ]
  },
  {
   "cell_type": "code",
   "execution_count": 85,
   "metadata": {},
   "outputs": [],
   "source": [
    "# On éliminera les outliers suivant les déciles ci dessus\n",
    "df = df.drop(df[df.MonthlyIncome <2000].index)\n",
    "df = df.drop(df[df.MonthlyIncome >11311.600000000006].index)"
   ]
  },
  {
   "cell_type": "code",
   "execution_count": 86,
   "metadata": {},
   "outputs": [
    {
     "data": {
      "text/plain": [
       "(37829, 8)"
      ]
     },
     "execution_count": 86,
     "metadata": {},
     "output_type": "execute_result"
    }
   ],
   "source": [
    "df.shape"
   ]
  },
  {
   "cell_type": "code",
   "execution_count": 87,
   "metadata": {},
   "outputs": [
    {
     "name": "stdout",
     "output_type": "stream",
     "text": [
      "0.04398400000000001\n",
      "1402.0\n"
     ]
    }
   ],
   "source": [
    "print(df['DebtRatio'].quantile(0.10))\n",
    "print(df['DebtRatio'].quantile(0.90))"
   ]
  },
  {
   "cell_type": "code",
   "execution_count": 88,
   "metadata": {},
   "outputs": [],
   "source": [
    "df = df.drop(df[df.DebtRatio <0.04398400000000001].index)\n",
    "df = df.drop(df[df.DebtRatio >1402.0].index)"
   ]
  },
  {
   "cell_type": "code",
   "execution_count": 89,
   "metadata": {},
   "outputs": [
    {
     "data": {
      "text/plain": [
       "(30264, 8)"
      ]
     },
     "execution_count": 89,
     "metadata": {},
     "output_type": "execute_result"
    }
   ],
   "source": [
    "df.shape"
   ]
  },
  {
   "cell_type": "code",
   "execution_count": 90,
   "metadata": {},
   "outputs": [
    {
     "data": {
      "text/plain": [
       "Client_Qualite                   0\n",
       "age                              0\n",
       "retard_30_59_jours               0\n",
       "DebtRatio                        0\n",
       "NumberOfTimes90DaysLate          0\n",
       "retard_60_89_jours               0\n",
       "MonthlyIncome                 4343\n",
       "Nbre_de_personnes_a_charge     688\n",
       "dtype: int64"
      ]
     },
     "execution_count": 90,
     "metadata": {},
     "output_type": "execute_result"
    }
   ],
   "source": [
    "# Identification des valeurs manquantes \n",
    "df.isnull().sum(axis=0)"
   ]
  },
  {
   "cell_type": "markdown",
   "metadata": {},
   "source": [
    "On remarque que les variables MonthlyIncome et NumberOfDependents contiennent des valeurs manquantes. \n",
    "On choisit l'approche qui consiste à supprimer les données comme la base de données a un grand nombre d'observations.  "
   ]
  },
  {
   "cell_type": "code",
   "execution_count": 91,
   "metadata": {},
   "outputs": [
    {
     "data": {
      "text/html": [
       "<div>\n",
       "<style scoped>\n",
       "    .dataframe tbody tr th:only-of-type {\n",
       "        vertical-align: middle;\n",
       "    }\n",
       "\n",
       "    .dataframe tbody tr th {\n",
       "        vertical-align: top;\n",
       "    }\n",
       "\n",
       "    .dataframe thead th {\n",
       "        text-align: right;\n",
       "    }\n",
       "</style>\n",
       "<table border=\"1\" class=\"dataframe\">\n",
       "  <thead>\n",
       "    <tr style=\"text-align: right;\">\n",
       "      <th></th>\n",
       "      <th>Client_Qualite</th>\n",
       "      <th>age</th>\n",
       "      <th>retard_30_59_jours</th>\n",
       "      <th>DebtRatio</th>\n",
       "      <th>NumberOfTimes90DaysLate</th>\n",
       "      <th>retard_60_89_jours</th>\n",
       "      <th>MonthlyIncome</th>\n",
       "      <th>Nbre_de_personnes_a_charge</th>\n",
       "    </tr>\n",
       "  </thead>\n",
       "  <tbody>\n",
       "    <tr>\n",
       "      <th>0</th>\n",
       "      <td>0</td>\n",
       "      <td>64</td>\n",
       "      <td>0</td>\n",
       "      <td>0.249908</td>\n",
       "      <td>0</td>\n",
       "      <td>0</td>\n",
       "      <td>8158.0</td>\n",
       "      <td>0.0</td>\n",
       "    </tr>\n",
       "    <tr>\n",
       "      <th>2</th>\n",
       "      <td>0</td>\n",
       "      <td>41</td>\n",
       "      <td>0</td>\n",
       "      <td>0.456127</td>\n",
       "      <td>0</td>\n",
       "      <td>0</td>\n",
       "      <td>6666.0</td>\n",
       "      <td>0.0</td>\n",
       "    </tr>\n",
       "    <tr>\n",
       "      <th>5</th>\n",
       "      <td>0</td>\n",
       "      <td>55</td>\n",
       "      <td>0</td>\n",
       "      <td>0.324678</td>\n",
       "      <td>0</td>\n",
       "      <td>0</td>\n",
       "      <td>8934.0</td>\n",
       "      <td>0.0</td>\n",
       "    </tr>\n",
       "    <tr>\n",
       "      <th>6</th>\n",
       "      <td>0</td>\n",
       "      <td>25</td>\n",
       "      <td>0</td>\n",
       "      <td>0.473421</td>\n",
       "      <td>0</td>\n",
       "      <td>0</td>\n",
       "      <td>2200.0</td>\n",
       "      <td>0.0</td>\n",
       "    </tr>\n",
       "    <tr>\n",
       "      <th>8</th>\n",
       "      <td>1</td>\n",
       "      <td>37</td>\n",
       "      <td>2</td>\n",
       "      <td>0.233710</td>\n",
       "      <td>0</td>\n",
       "      <td>0</td>\n",
       "      <td>7166.0</td>\n",
       "      <td>0.0</td>\n",
       "    </tr>\n",
       "  </tbody>\n",
       "</table>\n",
       "</div>"
      ],
      "text/plain": [
       "   Client_Qualite  age  retard_30_59_jours  DebtRatio  \\\n",
       "0               0   64                   0   0.249908   \n",
       "2               0   41                   0   0.456127   \n",
       "5               0   55                   0   0.324678   \n",
       "6               0   25                   0   0.473421   \n",
       "8               1   37                   2   0.233710   \n",
       "\n",
       "   NumberOfTimes90DaysLate  retard_60_89_jours  MonthlyIncome  \\\n",
       "0                        0                   0         8158.0   \n",
       "2                        0                   0         6666.0   \n",
       "5                        0                   0         8934.0   \n",
       "6                        0                   0         2200.0   \n",
       "8                        0                   0         7166.0   \n",
       "\n",
       "   Nbre_de_personnes_a_charge  \n",
       "0                         0.0  \n",
       "2                         0.0  \n",
       "5                         0.0  \n",
       "6                         0.0  \n",
       "8                         0.0  "
      ]
     },
     "execution_count": 91,
     "metadata": {},
     "output_type": "execute_result"
    }
   ],
   "source": [
    "df=df.dropna()\n",
    "df.head()"
   ]
  },
  {
   "cell_type": "code",
   "execution_count": 92,
   "metadata": {},
   "outputs": [
    {
     "data": {
      "text/plain": [
       "(25921, 8)"
      ]
     },
     "execution_count": 92,
     "metadata": {},
     "output_type": "execute_result"
    }
   ],
   "source": [
    "df.shape"
   ]
  },
  {
   "cell_type": "markdown",
   "metadata": {},
   "source": [
    "Après traitement des outliers et des valeurs manquantes, il reste 25921 lignes et 8 colonnes. "
   ]
  },
  {
   "cell_type": "code",
   "execution_count": 93,
   "metadata": {
    "deletable": false,
    "nbgrader": {
     "cell_type": "code",
     "checksum": "591ee4c3da9e29aa86b5ae3915cc4695",
     "grade": true,
     "grade_id": "cell-599a90bfd08dcc2b",
     "locked": false,
     "points": 1,
     "schema_version": 3,
     "solution": true,
     "task": false
    }
   },
   "outputs": [
    {
     "data": {
      "text/html": [
       "<div>\n",
       "<style scoped>\n",
       "    .dataframe tbody tr th:only-of-type {\n",
       "        vertical-align: middle;\n",
       "    }\n",
       "\n",
       "    .dataframe tbody tr th {\n",
       "        vertical-align: top;\n",
       "    }\n",
       "\n",
       "    .dataframe thead th {\n",
       "        text-align: right;\n",
       "    }\n",
       "</style>\n",
       "<table border=\"1\" class=\"dataframe\">\n",
       "  <thead>\n",
       "    <tr style=\"text-align: right;\">\n",
       "      <th></th>\n",
       "      <th>Client_Qualite</th>\n",
       "      <th>age</th>\n",
       "      <th>retard_30_59_jours</th>\n",
       "      <th>DebtRatio</th>\n",
       "      <th>NumberOfTimes90DaysLate</th>\n",
       "      <th>retard_60_89_jours</th>\n",
       "      <th>MonthlyIncome</th>\n",
       "      <th>Nbre_de_personnes_a_charge</th>\n",
       "      <th>Client_Qualite_Recode</th>\n",
       "    </tr>\n",
       "  </thead>\n",
       "  <tbody>\n",
       "    <tr>\n",
       "      <th>0</th>\n",
       "      <td>0</td>\n",
       "      <td>64</td>\n",
       "      <td>0</td>\n",
       "      <td>0.249908</td>\n",
       "      <td>0</td>\n",
       "      <td>0</td>\n",
       "      <td>8158.0</td>\n",
       "      <td>0.0</td>\n",
       "      <td>Bon</td>\n",
       "    </tr>\n",
       "    <tr>\n",
       "      <th>2</th>\n",
       "      <td>0</td>\n",
       "      <td>41</td>\n",
       "      <td>0</td>\n",
       "      <td>0.456127</td>\n",
       "      <td>0</td>\n",
       "      <td>0</td>\n",
       "      <td>6666.0</td>\n",
       "      <td>0.0</td>\n",
       "      <td>Bon</td>\n",
       "    </tr>\n",
       "    <tr>\n",
       "      <th>5</th>\n",
       "      <td>0</td>\n",
       "      <td>55</td>\n",
       "      <td>0</td>\n",
       "      <td>0.324678</td>\n",
       "      <td>0</td>\n",
       "      <td>0</td>\n",
       "      <td>8934.0</td>\n",
       "      <td>0.0</td>\n",
       "      <td>Bon</td>\n",
       "    </tr>\n",
       "    <tr>\n",
       "      <th>6</th>\n",
       "      <td>0</td>\n",
       "      <td>25</td>\n",
       "      <td>0</td>\n",
       "      <td>0.473421</td>\n",
       "      <td>0</td>\n",
       "      <td>0</td>\n",
       "      <td>2200.0</td>\n",
       "      <td>0.0</td>\n",
       "      <td>Bon</td>\n",
       "    </tr>\n",
       "    <tr>\n",
       "      <th>8</th>\n",
       "      <td>1</td>\n",
       "      <td>37</td>\n",
       "      <td>2</td>\n",
       "      <td>0.233710</td>\n",
       "      <td>0</td>\n",
       "      <td>0</td>\n",
       "      <td>7166.0</td>\n",
       "      <td>0.0</td>\n",
       "      <td>Mauvais</td>\n",
       "    </tr>\n",
       "  </tbody>\n",
       "</table>\n",
       "</div>"
      ],
      "text/plain": [
       "   Client_Qualite  age  retard_30_59_jours  DebtRatio  \\\n",
       "0               0   64                   0   0.249908   \n",
       "2               0   41                   0   0.456127   \n",
       "5               0   55                   0   0.324678   \n",
       "6               0   25                   0   0.473421   \n",
       "8               1   37                   2   0.233710   \n",
       "\n",
       "   NumberOfTimes90DaysLate  retard_60_89_jours  MonthlyIncome  \\\n",
       "0                        0                   0         8158.0   \n",
       "2                        0                   0         6666.0   \n",
       "5                        0                   0         8934.0   \n",
       "6                        0                   0         2200.0   \n",
       "8                        0                   0         7166.0   \n",
       "\n",
       "   Nbre_de_personnes_a_charge Client_Qualite_Recode  \n",
       "0                         0.0                   Bon  \n",
       "2                         0.0                   Bon  \n",
       "5                         0.0                   Bon  \n",
       "6                         0.0                   Bon  \n",
       "8                         0.0               Mauvais  "
      ]
     },
     "execution_count": 93,
     "metadata": {},
     "output_type": "execute_result"
    }
   ],
   "source": [
    "labels= [\"Bon\",\"Mauvais\"]\n",
    "df['Client_Qualite_Recode'] = pd.cut(df['Client_Qualite'], bins=2, labels=labels)\n",
    "df.head()"
   ]
  },
  {
   "cell_type": "markdown",
   "metadata": {},
   "source": [
    "On a transformé la variable Client_Qualite en variable catégorielle binaire où 0 indique maintenant Bon et 1 indique Mauvais."
   ]
  },
  {
   "cell_type": "code",
   "execution_count": 94,
   "metadata": {},
   "outputs": [
    {
     "data": {
      "text/plain": [
       "count    25921.000000\n",
       "mean        49.720535\n",
       "std         13.245290\n",
       "min         21.000000\n",
       "25%         40.000000\n",
       "50%         49.000000\n",
       "75%         59.000000\n",
       "max         99.000000\n",
       "Name: age, dtype: float64"
      ]
     },
     "execution_count": 94,
     "metadata": {},
     "output_type": "execute_result"
    }
   ],
   "source": [
    "# Description de la variable age\n",
    "df['age'].describe()"
   ]
  },
  {
   "cell_type": "code",
   "execution_count": 95,
   "metadata": {},
   "outputs": [
    {
     "data": {
      "text/plain": [
       "<AxesSubplot:ylabel='Frequency'>"
      ]
     },
     "execution_count": 95,
     "metadata": {},
     "output_type": "execute_result"
    },
    {
     "data": {
      "image/png": "[encoded data removed]",
      "text/plain": [
       "<Figure size 432x288 with 1 Axes>"
      ]
     },
     "metadata": {
      "needs_background": "light"
     },
     "output_type": "display_data"
    }
   ],
   "source": [
    "df['age'].plot.hist(grid=True, bins=20, rwidth=0.9,\n",
    "                   color='red')"
   ]
  },
  {
   "cell_type": "markdown",
   "metadata": {},
   "source": [
    "- L'Histogramme ci dessus donne des pistes pour le découpage de la variable age\n",
    "- Catégories choisies\\\n",
    "[20-39] [40-51] [52-60] [60 et plus]"
   ]
  },
  {
   "cell_type": "code",
   "execution_count": 96,
   "metadata": {},
   "outputs": [
    {
     "data": {
      "text/html": [
       "<div>\n",
       "<style scoped>\n",
       "    .dataframe tbody tr th:only-of-type {\n",
       "        vertical-align: middle;\n",
       "    }\n",
       "\n",
       "    .dataframe tbody tr th {\n",
       "        vertical-align: top;\n",
       "    }\n",
       "\n",
       "    .dataframe thead th {\n",
       "        text-align: right;\n",
       "    }\n",
       "</style>\n",
       "<table border=\"1\" class=\"dataframe\">\n",
       "  <thead>\n",
       "    <tr style=\"text-align: right;\">\n",
       "      <th></th>\n",
       "      <th>Client_Qualite</th>\n",
       "      <th>age</th>\n",
       "      <th>retard_30_59_jours</th>\n",
       "      <th>DebtRatio</th>\n",
       "      <th>NumberOfTimes90DaysLate</th>\n",
       "      <th>retard_60_89_jours</th>\n",
       "      <th>MonthlyIncome</th>\n",
       "      <th>Nbre_de_personnes_a_charge</th>\n",
       "      <th>Client_Qualite_Recode</th>\n",
       "      <th>Age_Categorie</th>\n",
       "    </tr>\n",
       "  </thead>\n",
       "  <tbody>\n",
       "    <tr>\n",
       "      <th>0</th>\n",
       "      <td>0</td>\n",
       "      <td>64</td>\n",
       "      <td>0</td>\n",
       "      <td>0.249908</td>\n",
       "      <td>0</td>\n",
       "      <td>0</td>\n",
       "      <td>8158.0</td>\n",
       "      <td>0.0</td>\n",
       "      <td>Bon</td>\n",
       "      <td>60 et plus</td>\n",
       "    </tr>\n",
       "    <tr>\n",
       "      <th>2</th>\n",
       "      <td>0</td>\n",
       "      <td>41</td>\n",
       "      <td>0</td>\n",
       "      <td>0.456127</td>\n",
       "      <td>0</td>\n",
       "      <td>0</td>\n",
       "      <td>6666.0</td>\n",
       "      <td>0.0</td>\n",
       "      <td>Bon</td>\n",
       "      <td>40-51</td>\n",
       "    </tr>\n",
       "    <tr>\n",
       "      <th>5</th>\n",
       "      <td>0</td>\n",
       "      <td>55</td>\n",
       "      <td>0</td>\n",
       "      <td>0.324678</td>\n",
       "      <td>0</td>\n",
       "      <td>0</td>\n",
       "      <td>8934.0</td>\n",
       "      <td>0.0</td>\n",
       "      <td>Bon</td>\n",
       "      <td>52-60</td>\n",
       "    </tr>\n",
       "    <tr>\n",
       "      <th>6</th>\n",
       "      <td>0</td>\n",
       "      <td>25</td>\n",
       "      <td>0</td>\n",
       "      <td>0.473421</td>\n",
       "      <td>0</td>\n",
       "      <td>0</td>\n",
       "      <td>2200.0</td>\n",
       "      <td>0.0</td>\n",
       "      <td>Bon</td>\n",
       "      <td>20-39</td>\n",
       "    </tr>\n",
       "    <tr>\n",
       "      <th>8</th>\n",
       "      <td>1</td>\n",
       "      <td>37</td>\n",
       "      <td>2</td>\n",
       "      <td>0.233710</td>\n",
       "      <td>0</td>\n",
       "      <td>0</td>\n",
       "      <td>7166.0</td>\n",
       "      <td>0.0</td>\n",
       "      <td>Mauvais</td>\n",
       "      <td>20-39</td>\n",
       "    </tr>\n",
       "  </tbody>\n",
       "</table>\n",
       "</div>"
      ],
      "text/plain": [
       "   Client_Qualite  age  retard_30_59_jours  DebtRatio  \\\n",
       "0               0   64                   0   0.249908   \n",
       "2               0   41                   0   0.456127   \n",
       "5               0   55                   0   0.324678   \n",
       "6               0   25                   0   0.473421   \n",
       "8               1   37                   2   0.233710   \n",
       "\n",
       "   NumberOfTimes90DaysLate  retard_60_89_jours  MonthlyIncome  \\\n",
       "0                        0                   0         8158.0   \n",
       "2                        0                   0         6666.0   \n",
       "5                        0                   0         8934.0   \n",
       "6                        0                   0         2200.0   \n",
       "8                        0                   0         7166.0   \n",
       "\n",
       "   Nbre_de_personnes_a_charge Client_Qualite_Recode Age_Categorie  \n",
       "0                         0.0                   Bon    60 et plus  \n",
       "2                         0.0                   Bon         40-51  \n",
       "5                         0.0                   Bon         52-60  \n",
       "6                         0.0                   Bon         20-39  \n",
       "8                         0.0               Mauvais         20-39  "
      ]
     },
     "execution_count": 96,
     "metadata": {},
     "output_type": "execute_result"
    }
   ],
   "source": [
    "bins = [20, 39, 51, 60, np.inf]\n",
    "labels=['20-39', '40-51', '52-60', '60 et plus' ]\n",
    "df['Age_Categorie'] = pd.cut(df.age, bins, right=False, labels=labels)\n",
    "df.head()"
   ]
  },
  {
   "cell_type": "code",
   "execution_count": 97,
   "metadata": {},
   "outputs": [
    {
     "data": {
      "text/plain": [
       "<AxesSubplot:ylabel='Frequency'>"
      ]
     },
     "execution_count": 97,
     "metadata": {},
     "output_type": "execute_result"
    },
    {
     "data": {
      "image/png": "[encoded data removed]",
      "text/plain": [
       "<Figure size 432x288 with 1 Axes>"
      ]
     },
     "metadata": {
      "needs_background": "light"
     },
     "output_type": "display_data"
    }
   ],
   "source": [
    "df['Nbre_de_personnes_a_charge'].plot.hist(grid=True, bins=20, rwidth=0.9,\n",
    "                   color='red')"
   ]
  },
  {
   "cell_type": "code",
   "execution_count": 98,
   "metadata": {},
   "outputs": [
    {
     "data": {
      "text/html": [
       "<div>\n",
       "<style scoped>\n",
       "    .dataframe tbody tr th:only-of-type {\n",
       "        vertical-align: middle;\n",
       "    }\n",
       "\n",
       "    .dataframe tbody tr th {\n",
       "        vertical-align: top;\n",
       "    }\n",
       "\n",
       "    .dataframe thead th {\n",
       "        text-align: right;\n",
       "    }\n",
       "</style>\n",
       "<table border=\"1\" class=\"dataframe\">\n",
       "  <thead>\n",
       "    <tr style=\"text-align: right;\">\n",
       "      <th></th>\n",
       "      <th>Client_Qualite</th>\n",
       "      <th>age</th>\n",
       "      <th>retard_30_59_jours</th>\n",
       "      <th>DebtRatio</th>\n",
       "      <th>NumberOfTimes90DaysLate</th>\n",
       "      <th>retard_60_89_jours</th>\n",
       "      <th>MonthlyIncome</th>\n",
       "      <th>Nbre_de_personnes_a_charge</th>\n",
       "      <th>Client_Qualite_Recode</th>\n",
       "      <th>Age_Categorie</th>\n",
       "      <th>Nbre_de_personnes_a_charge_Categorie</th>\n",
       "    </tr>\n",
       "  </thead>\n",
       "  <tbody>\n",
       "    <tr>\n",
       "      <th>0</th>\n",
       "      <td>0</td>\n",
       "      <td>64</td>\n",
       "      <td>0</td>\n",
       "      <td>0.249908</td>\n",
       "      <td>0</td>\n",
       "      <td>0</td>\n",
       "      <td>8158.0</td>\n",
       "      <td>0.0</td>\n",
       "      <td>Bon</td>\n",
       "      <td>60 et plus</td>\n",
       "      <td>0-2</td>\n",
       "    </tr>\n",
       "    <tr>\n",
       "      <th>2</th>\n",
       "      <td>0</td>\n",
       "      <td>41</td>\n",
       "      <td>0</td>\n",
       "      <td>0.456127</td>\n",
       "      <td>0</td>\n",
       "      <td>0</td>\n",
       "      <td>6666.0</td>\n",
       "      <td>0.0</td>\n",
       "      <td>Bon</td>\n",
       "      <td>40-51</td>\n",
       "      <td>0-2</td>\n",
       "    </tr>\n",
       "    <tr>\n",
       "      <th>5</th>\n",
       "      <td>0</td>\n",
       "      <td>55</td>\n",
       "      <td>0</td>\n",
       "      <td>0.324678</td>\n",
       "      <td>0</td>\n",
       "      <td>0</td>\n",
       "      <td>8934.0</td>\n",
       "      <td>0.0</td>\n",
       "      <td>Bon</td>\n",
       "      <td>52-60</td>\n",
       "      <td>0-2</td>\n",
       "    </tr>\n",
       "    <tr>\n",
       "      <th>6</th>\n",
       "      <td>0</td>\n",
       "      <td>25</td>\n",
       "      <td>0</td>\n",
       "      <td>0.473421</td>\n",
       "      <td>0</td>\n",
       "      <td>0</td>\n",
       "      <td>2200.0</td>\n",
       "      <td>0.0</td>\n",
       "      <td>Bon</td>\n",
       "      <td>20-39</td>\n",
       "      <td>0-2</td>\n",
       "    </tr>\n",
       "    <tr>\n",
       "      <th>8</th>\n",
       "      <td>1</td>\n",
       "      <td>37</td>\n",
       "      <td>2</td>\n",
       "      <td>0.233710</td>\n",
       "      <td>0</td>\n",
       "      <td>0</td>\n",
       "      <td>7166.0</td>\n",
       "      <td>0.0</td>\n",
       "      <td>Mauvais</td>\n",
       "      <td>20-39</td>\n",
       "      <td>0-2</td>\n",
       "    </tr>\n",
       "  </tbody>\n",
       "</table>\n",
       "</div>"
      ],
      "text/plain": [
       "   Client_Qualite  age  retard_30_59_jours  DebtRatio  \\\n",
       "0               0   64                   0   0.249908   \n",
       "2               0   41                   0   0.456127   \n",
       "5               0   55                   0   0.324678   \n",
       "6               0   25                   0   0.473421   \n",
       "8               1   37                   2   0.233710   \n",
       "\n",
       "   NumberOfTimes90DaysLate  retard_60_89_jours  MonthlyIncome  \\\n",
       "0                        0                   0         8158.0   \n",
       "2                        0                   0         6666.0   \n",
       "5                        0                   0         8934.0   \n",
       "6                        0                   0         2200.0   \n",
       "8                        0                   0         7166.0   \n",
       "\n",
       "   Nbre_de_personnes_a_charge Client_Qualite_Recode Age_Categorie  \\\n",
       "0                         0.0                   Bon    60 et plus   \n",
       "2                         0.0                   Bon         40-51   \n",
       "5                         0.0                   Bon         52-60   \n",
       "6                         0.0                   Bon         20-39   \n",
       "8                         0.0               Mauvais         20-39   \n",
       "\n",
       "  Nbre_de_personnes_a_charge_Categorie  \n",
       "0                                  0-2  \n",
       "2                                  0-2  \n",
       "5                                  0-2  \n",
       "6                                  0-2  \n",
       "8                                  0-2  "
      ]
     },
     "execution_count": 98,
     "metadata": {},
     "output_type": "execute_result"
    }
   ],
   "source": [
    "bins = [0, 2, 4, np.inf]\n",
    "labels=['0-2', '3-4', '4-10']\n",
    "df['Nbre_de_personnes_a_charge_Categorie'] = pd.cut(df.Nbre_de_personnes_a_charge, bins, right=False, labels=labels)\n",
    "df.head()"
   ]
  },
  {
   "cell_type": "markdown",
   "metadata": {
    "deletable": false,
    "editable": false,
    "nbgrader": {
     "cell_type": "markdown",
     "checksum": "eec8c8ee1a8129ae9492ac933b2dec80",
     "grade": false,
     "grade_id": "cell-06215fd0fe6e9f27",
     "locked": true,
     "schema_version": 3,
     "solution": false,
     "task": false
    }
   },
   "source": [
    "# Analyse approfondie"
   ]
  },
  {
   "cell_type": "markdown",
   "metadata": {
    "deletable": false,
    "editable": false,
    "nbgrader": {
     "cell_type": "markdown",
     "checksum": "534b0a3dc7035c380d1a75f010500287",
     "grade": false,
     "grade_id": "cell-9030533393835546",
     "locked": true,
     "schema_version": 3,
     "solution": false,
     "task": false
    }
   },
   "source": [
    "## Analyse des statistiques descriptives"
   ]
  },
  {
   "cell_type": "markdown",
   "metadata": {
    "deletable": false,
    "editable": false,
    "nbgrader": {
     "cell_type": "markdown",
     "checksum": "d8d701d6adbd5980836f6f85296d5902",
     "grade": false,
     "grade_id": "cell-9eb24d0057fb50dd",
     "locked": true,
     "schema_version": 3,
     "solution": false,
     "task": false
    }
   },
   "source": [
    "Affichage les statistiques descriptives de ce DataFrame"
   ]
  },
  {
   "cell_type": "code",
   "execution_count": 99,
   "metadata": {
    "deletable": false,
    "nbgrader": {
     "cell_type": "code",
     "checksum": "b9214f3f79973262b50599f77dd4192e",
     "grade": true,
     "grade_id": "cell-84b56a0ecdc99755",
     "locked": false,
     "points": 1,
     "schema_version": 3,
     "solution": true,
     "task": false
    }
   },
   "outputs": [
    {
     "data": {
      "text/html": [
       "<div>\n",
       "<style scoped>\n",
       "    .dataframe tbody tr th:only-of-type {\n",
       "        vertical-align: middle;\n",
       "    }\n",
       "\n",
       "    .dataframe tbody tr th {\n",
       "        vertical-align: top;\n",
       "    }\n",
       "\n",
       "    .dataframe thead th {\n",
       "        text-align: right;\n",
       "    }\n",
       "</style>\n",
       "<table border=\"1\" class=\"dataframe\">\n",
       "  <thead>\n",
       "    <tr style=\"text-align: right;\">\n",
       "      <th></th>\n",
       "      <th>Client_Qualite</th>\n",
       "      <th>age</th>\n",
       "      <th>retard_30_59_jours</th>\n",
       "      <th>DebtRatio</th>\n",
       "      <th>NumberOfTimes90DaysLate</th>\n",
       "      <th>retard_60_89_jours</th>\n",
       "      <th>MonthlyIncome</th>\n",
       "      <th>Nbre_de_personnes_a_charge</th>\n",
       "    </tr>\n",
       "  </thead>\n",
       "  <tbody>\n",
       "    <tr>\n",
       "      <th>count</th>\n",
       "      <td>25921.000000</td>\n",
       "      <td>25921.000000</td>\n",
       "      <td>25921.000000</td>\n",
       "      <td>25921.000000</td>\n",
       "      <td>25921.000000</td>\n",
       "      <td>25921.000000</td>\n",
       "      <td>25921.000000</td>\n",
       "      <td>25921.000000</td>\n",
       "    </tr>\n",
       "    <tr>\n",
       "      <th>mean</th>\n",
       "      <td>0.241349</td>\n",
       "      <td>49.720535</td>\n",
       "      <td>0.432044</td>\n",
       "      <td>0.421136</td>\n",
       "      <td>0.197485</td>\n",
       "      <td>0.137610</td>\n",
       "      <td>5646.938814</td>\n",
       "      <td>0.923383</td>\n",
       "    </tr>\n",
       "    <tr>\n",
       "      <th>std</th>\n",
       "      <td>0.427910</td>\n",
       "      <td>13.245290</td>\n",
       "      <td>0.963503</td>\n",
       "      <td>0.782650</td>\n",
       "      <td>0.744426</td>\n",
       "      <td>0.498228</td>\n",
       "      <td>2383.420167</td>\n",
       "      <td>1.161328</td>\n",
       "    </tr>\n",
       "    <tr>\n",
       "      <th>min</th>\n",
       "      <td>0.000000</td>\n",
       "      <td>21.000000</td>\n",
       "      <td>0.000000</td>\n",
       "      <td>0.043996</td>\n",
       "      <td>0.000000</td>\n",
       "      <td>0.000000</td>\n",
       "      <td>2000.000000</td>\n",
       "      <td>0.000000</td>\n",
       "    </tr>\n",
       "    <tr>\n",
       "      <th>25%</th>\n",
       "      <td>0.000000</td>\n",
       "      <td>40.000000</td>\n",
       "      <td>0.000000</td>\n",
       "      <td>0.205082</td>\n",
       "      <td>0.000000</td>\n",
       "      <td>0.000000</td>\n",
       "      <td>3701.000000</td>\n",
       "      <td>0.000000</td>\n",
       "    </tr>\n",
       "    <tr>\n",
       "      <th>50%</th>\n",
       "      <td>0.000000</td>\n",
       "      <td>49.000000</td>\n",
       "      <td>0.000000</td>\n",
       "      <td>0.341340</td>\n",
       "      <td>0.000000</td>\n",
       "      <td>0.000000</td>\n",
       "      <td>5246.000000</td>\n",
       "      <td>0.000000</td>\n",
       "    </tr>\n",
       "    <tr>\n",
       "      <th>75%</th>\n",
       "      <td>0.000000</td>\n",
       "      <td>59.000000</td>\n",
       "      <td>0.000000</td>\n",
       "      <td>0.520080</td>\n",
       "      <td>0.000000</td>\n",
       "      <td>0.000000</td>\n",
       "      <td>7342.000000</td>\n",
       "      <td>2.000000</td>\n",
       "    </tr>\n",
       "    <tr>\n",
       "      <th>max</th>\n",
       "      <td>1.000000</td>\n",
       "      <td>99.000000</td>\n",
       "      <td>12.000000</td>\n",
       "      <td>95.300922</td>\n",
       "      <td>17.000000</td>\n",
       "      <td>8.000000</td>\n",
       "      <td>11308.000000</td>\n",
       "      <td>10.000000</td>\n",
       "    </tr>\n",
       "  </tbody>\n",
       "</table>\n",
       "</div>"
      ],
      "text/plain": [
       "       Client_Qualite           age  retard_30_59_jours     DebtRatio  \\\n",
       "count    25921.000000  25921.000000        25921.000000  25921.000000   \n",
       "mean         0.241349     49.720535            0.432044      0.421136   \n",
       "std          0.427910     13.245290            0.963503      0.782650   \n",
       "min          0.000000     21.000000            0.000000      0.043996   \n",
       "25%          0.000000     40.000000            0.000000      0.205082   \n",
       "50%          0.000000     49.000000            0.000000      0.341340   \n",
       "75%          0.000000     59.000000            0.000000      0.520080   \n",
       "max          1.000000     99.000000           12.000000     95.300922   \n",
       "\n",
       "       NumberOfTimes90DaysLate  retard_60_89_jours  MonthlyIncome  \\\n",
       "count             25921.000000        25921.000000   25921.000000   \n",
       "mean                  0.197485            0.137610    5646.938814   \n",
       "std                   0.744426            0.498228    2383.420167   \n",
       "min                   0.000000            0.000000    2000.000000   \n",
       "25%                   0.000000            0.000000    3701.000000   \n",
       "50%                   0.000000            0.000000    5246.000000   \n",
       "75%                   0.000000            0.000000    7342.000000   \n",
       "max                  17.000000            8.000000   11308.000000   \n",
       "\n",
       "       Nbre_de_personnes_a_charge  \n",
       "count                25921.000000  \n",
       "mean                     0.923383  \n",
       "std                      1.161328  \n",
       "min                      0.000000  \n",
       "25%                      0.000000  \n",
       "50%                      0.000000  \n",
       "75%                      2.000000  \n",
       "max                     10.000000  "
      ]
     },
     "execution_count": 99,
     "metadata": {},
     "output_type": "execute_result"
    }
   ],
   "source": [
    "df.describe()\n"
   ]
  },
  {
   "cell_type": "markdown",
   "metadata": {
    "deletable": false,
    "editable": false,
    "nbgrader": {
     "cell_type": "markdown",
     "checksum": "ec5898d0bb0cbfdd59904ddefb1d8208",
     "grade": false,
     "grade_id": "cell-a4b72b04bb9ada06",
     "locked": true,
     "schema_version": 3,
     "solution": false,
     "task": false
    }
   },
   "source": [
    "Commentaires : "
   ]
  },
  {
   "cell_type": "markdown",
   "metadata": {},
   "source": [
    "- L'age moyen des clients est de 49.720535 ans;\n",
    "\n",
    "\n",
    "- Le revenu mensuel moyen (Monthly income) est de 5646.938814;\n",
    "\n",
    "- La personne qui a le revenu mensuel le plus faible de la distribution a un revenu de 2000.000000 et celle qui a le revenu mensuel le plus élevé perçoit 11308.000000;\n",
    "\n",
    "- Le nombre de personnes à charge le plus élevé est de 10 personnes;\n",
    "\n",
    "- Le ratio d'endettement (debt ratio) moyen est de 0.432044.\n"
   ]
  },
  {
   "cell_type": "code",
   "execution_count": 100,
   "metadata": {},
   "outputs": [
    {
     "data": {
      "text/plain": [
       "Bon        19665\n",
       "Mauvais     6256\n",
       "Name: Client_Qualite_Recode, dtype: int64"
      ]
     },
     "execution_count": 100,
     "metadata": {},
     "output_type": "execute_result"
    }
   ],
   "source": [
    "df_qualite= df['Client_Qualite_Recode']\n",
    "pd.value_counts(df_qualite)"
   ]
  },
  {
   "cell_type": "markdown",
   "metadata": {},
   "source": [
    "On remarque qu'il y a beaucoup plus de bons clients dans la base de données que de mauvais clients. Il y a donc un nombre important de clients qui n'ont pas accumulé de retards dans 90 jours dans leur remboursement durant les deux dernieres années. "
   ]
  },
  {
   "cell_type": "code",
   "execution_count": 101,
   "metadata": {},
   "outputs": [
    {
     "data": {
      "text/plain": [
       "40-51         8424\n",
       "60 et plus    6271\n",
       "20-39         5760\n",
       "52-60         5466\n",
       "Name: Age_Categorie, dtype: int64"
      ]
     },
     "execution_count": 101,
     "metadata": {},
     "output_type": "execute_result"
    }
   ],
   "source": [
    "df3= df['Age_Categorie']\n",
    "pd.value_counts(df3)"
   ]
  },
  {
   "cell_type": "markdown",
   "metadata": {},
   "source": [
    "La majorité des clients ont entre 40 et 51 ans."
   ]
  },
  {
   "cell_type": "code",
   "execution_count": 102,
   "metadata": {},
   "outputs": [
    {
     "data": {
      "text/plain": [
       "0-2     18775\n",
       "3-4      6313\n",
       "4-10      833\n",
       "Name: Nbre_de_personnes_a_charge_Categorie, dtype: int64"
      ]
     },
     "execution_count": 102,
     "metadata": {},
     "output_type": "execute_result"
    }
   ],
   "source": [
    "df4= df['Nbre_de_personnes_a_charge_Categorie']\n",
    "pd.value_counts(df4)"
   ]
  },
  {
   "cell_type": "markdown",
   "metadata": {},
   "source": [
    "La majorité des clients ont entre 0 à 2 personnes à charge."
   ]
  },
  {
   "cell_type": "markdown",
   "metadata": {},
   "source": [
    "# Croisements"
   ]
  },
  {
   "cell_type": "code",
   "execution_count": 103,
   "metadata": {
    "deletable": false,
    "nbgrader": {
     "cell_type": "code",
     "checksum": "a9d15524272d4e9597f4524854d217ad",
     "grade": true,
     "grade_id": "cell-2a3ea08ec8de9b50",
     "locked": false,
     "points": 1,
     "schema_version": 3,
     "solution": true,
     "task": false
    }
   },
   "outputs": [
    {
     "data": {
      "text/html": [
       "<div>\n",
       "<style scoped>\n",
       "    .dataframe tbody tr th:only-of-type {\n",
       "        vertical-align: middle;\n",
       "    }\n",
       "\n",
       "    .dataframe tbody tr th {\n",
       "        vertical-align: top;\n",
       "    }\n",
       "\n",
       "    .dataframe thead th {\n",
       "        text-align: right;\n",
       "    }\n",
       "</style>\n",
       "<table border=\"1\" class=\"dataframe\">\n",
       "  <thead>\n",
       "    <tr style=\"text-align: right;\">\n",
       "      <th>Client_Qualite_Recode</th>\n",
       "      <th>Bon</th>\n",
       "      <th>Mauvais</th>\n",
       "    </tr>\n",
       "    <tr>\n",
       "      <th>Age_Categorie</th>\n",
       "      <th></th>\n",
       "      <th></th>\n",
       "    </tr>\n",
       "  </thead>\n",
       "  <tbody>\n",
       "    <tr>\n",
       "      <th>20-39</th>\n",
       "      <td>3979</td>\n",
       "      <td>1781</td>\n",
       "    </tr>\n",
       "    <tr>\n",
       "      <th>40-51</th>\n",
       "      <td>6114</td>\n",
       "      <td>2310</td>\n",
       "    </tr>\n",
       "    <tr>\n",
       "      <th>52-60</th>\n",
       "      <td>4195</td>\n",
       "      <td>1271</td>\n",
       "    </tr>\n",
       "    <tr>\n",
       "      <th>60 et plus</th>\n",
       "      <td>5377</td>\n",
       "      <td>894</td>\n",
       "    </tr>\n",
       "  </tbody>\n",
       "</table>\n",
       "</div>"
      ],
      "text/plain": [
       "Client_Qualite_Recode   Bon  Mauvais\n",
       "Age_Categorie                       \n",
       "20-39                  3979     1781\n",
       "40-51                  6114     2310\n",
       "52-60                  4195     1271\n",
       "60 et plus             5377      894"
      ]
     },
     "execution_count": 103,
     "metadata": {},
     "output_type": "execute_result"
    }
   ],
   "source": [
    "#Croisement Age et Qualité du client \n",
    "df_croisement_1=pd.crosstab(df['Age_Categorie'],df['Client_Qualite_Recode'])\n",
    "df_croisement_1"
   ]
  },
  {
   "cell_type": "markdown",
   "metadata": {},
   "source": [
    "On remarque une préponderance de bons clients dans toutes les catégries d'ages.  Et les mauvais clients ont en forte majorité entre 40 et 51 ans."
   ]
  },
  {
   "cell_type": "code",
   "execution_count": 104,
   "metadata": {
    "deletable": false,
    "nbgrader": {
     "cell_type": "code",
     "checksum": "18150b6811346e59fc3bfd36df6a5890",
     "grade": true,
     "grade_id": "cell-8e69586f7c9ca1af",
     "locked": false,
     "points": 1,
     "schema_version": 3,
     "solution": true,
     "task": false
    }
   },
   "outputs": [
    {
     "data": {
      "text/html": [
       "<div>\n",
       "<style scoped>\n",
       "    .dataframe tbody tr th:only-of-type {\n",
       "        vertical-align: middle;\n",
       "    }\n",
       "\n",
       "    .dataframe tbody tr th {\n",
       "        vertical-align: top;\n",
       "    }\n",
       "\n",
       "    .dataframe thead th {\n",
       "        text-align: right;\n",
       "    }\n",
       "</style>\n",
       "<table border=\"1\" class=\"dataframe\">\n",
       "  <thead>\n",
       "    <tr style=\"text-align: right;\">\n",
       "      <th>Client_Qualite_Recode</th>\n",
       "      <th>Bon</th>\n",
       "      <th>Mauvais</th>\n",
       "    </tr>\n",
       "    <tr>\n",
       "      <th>Nbre_de_personnes_a_charge_Categorie</th>\n",
       "      <th></th>\n",
       "      <th></th>\n",
       "    </tr>\n",
       "  </thead>\n",
       "  <tbody>\n",
       "    <tr>\n",
       "      <th>0-2</th>\n",
       "      <td>14582</td>\n",
       "      <td>4193</td>\n",
       "    </tr>\n",
       "    <tr>\n",
       "      <th>3-4</th>\n",
       "      <td>4550</td>\n",
       "      <td>1763</td>\n",
       "    </tr>\n",
       "    <tr>\n",
       "      <th>4-10</th>\n",
       "      <td>533</td>\n",
       "      <td>300</td>\n",
       "    </tr>\n",
       "  </tbody>\n",
       "</table>\n",
       "</div>"
      ],
      "text/plain": [
       "Client_Qualite_Recode                   Bon  Mauvais\n",
       "Nbre_de_personnes_a_charge_Categorie                \n",
       "0-2                                   14582     4193\n",
       "3-4                                    4550     1763\n",
       "4-10                                    533      300"
      ]
     },
     "execution_count": 104,
     "metadata": {},
     "output_type": "execute_result"
    }
   ],
   "source": [
    "#Croisement entre Nombre de personnes à charge et Qualité du Client\n",
    "df_croisement=pd.crosstab(df['Nbre_de_personnes_a_charge_Categorie'],df['Client_Qualite_Recode'])\n",
    "df_croisement "
   ]
  },
  {
   "cell_type": "markdown",
   "metadata": {},
   "source": [
    "La plupart des clients ayant entre 0 à 2 personnes à charge sont des Bons clients. Mais aussi, la majorité des mauvais clients ont entre 0 à 2 personnes à charge."
   ]
  },
  {
   "cell_type": "code",
   "execution_count": 105,
   "metadata": {
    "deletable": false,
    "nbgrader": {
     "cell_type": "code",
     "checksum": "04a592df02fc59a608581e362c03f86c",
     "grade": true,
     "grade_id": "cell-b7311105b168c1a5",
     "locked": false,
     "points": 1,
     "schema_version": 3,
     "solution": true,
     "task": false
    }
   },
   "outputs": [
    {
     "data": {
      "text/html": [
       "<div>\n",
       "<style scoped>\n",
       "    .dataframe tbody tr th:only-of-type {\n",
       "        vertical-align: middle;\n",
       "    }\n",
       "\n",
       "    .dataframe tbody tr th {\n",
       "        vertical-align: top;\n",
       "    }\n",
       "\n",
       "    .dataframe thead th {\n",
       "        text-align: right;\n",
       "    }\n",
       "</style>\n",
       "<table border=\"1\" class=\"dataframe\">\n",
       "  <thead>\n",
       "    <tr style=\"text-align: right;\">\n",
       "      <th></th>\n",
       "      <th>age</th>\n",
       "      <th>retard_30_59_jours</th>\n",
       "      <th>retard_60_89_jours</th>\n",
       "      <th>DebtRatio</th>\n",
       "      <th>MonthlyIncome</th>\n",
       "      <th>NumberOfTimes90DaysLate</th>\n",
       "      <th>Nbre_de_personnes_a_charge</th>\n",
       "    </tr>\n",
       "  </thead>\n",
       "  <tbody>\n",
       "    <tr>\n",
       "      <th>age</th>\n",
       "      <td>1.000000</td>\n",
       "      <td>-0.059181</td>\n",
       "      <td>-0.071623</td>\n",
       "      <td>0.023185</td>\n",
       "      <td>0.104300</td>\n",
       "      <td>-0.081438</td>\n",
       "      <td>-0.214703</td>\n",
       "    </tr>\n",
       "    <tr>\n",
       "      <th>retard_30_59_jours</th>\n",
       "      <td>-0.059181</td>\n",
       "      <td>1.000000</td>\n",
       "      <td>0.334404</td>\n",
       "      <td>0.074832</td>\n",
       "      <td>-0.043084</td>\n",
       "      <td>0.252665</td>\n",
       "      <td>0.060616</td>\n",
       "    </tr>\n",
       "    <tr>\n",
       "      <th>retard_60_89_jours</th>\n",
       "      <td>-0.071623</td>\n",
       "      <td>0.334404</td>\n",
       "      <td>1.000000</td>\n",
       "      <td>0.069218</td>\n",
       "      <td>-0.068671</td>\n",
       "      <td>0.343429</td>\n",
       "      <td>0.057429</td>\n",
       "    </tr>\n",
       "    <tr>\n",
       "      <th>DebtRatio</th>\n",
       "      <td>0.023185</td>\n",
       "      <td>0.074832</td>\n",
       "      <td>0.069218</td>\n",
       "      <td>1.000000</td>\n",
       "      <td>-0.070944</td>\n",
       "      <td>0.005793</td>\n",
       "      <td>0.004889</td>\n",
       "    </tr>\n",
       "    <tr>\n",
       "      <th>MonthlyIncome</th>\n",
       "      <td>0.104300</td>\n",
       "      <td>-0.043084</td>\n",
       "      <td>-0.068671</td>\n",
       "      <td>-0.070944</td>\n",
       "      <td>1.000000</td>\n",
       "      <td>-0.087186</td>\n",
       "      <td>0.136243</td>\n",
       "    </tr>\n",
       "    <tr>\n",
       "      <th>NumberOfTimes90DaysLate</th>\n",
       "      <td>-0.081438</td>\n",
       "      <td>0.252665</td>\n",
       "      <td>0.343429</td>\n",
       "      <td>0.005793</td>\n",
       "      <td>-0.087186</td>\n",
       "      <td>1.000000</td>\n",
       "      <td>0.049767</td>\n",
       "    </tr>\n",
       "    <tr>\n",
       "      <th>Nbre_de_personnes_a_charge</th>\n",
       "      <td>-0.214703</td>\n",
       "      <td>0.060616</td>\n",
       "      <td>0.057429</td>\n",
       "      <td>0.004889</td>\n",
       "      <td>0.136243</td>\n",
       "      <td>0.049767</td>\n",
       "      <td>1.000000</td>\n",
       "    </tr>\n",
       "  </tbody>\n",
       "</table>\n",
       "</div>"
      ],
      "text/plain": [
       "                                 age  retard_30_59_jours  retard_60_89_jours  \\\n",
       "age                         1.000000           -0.059181           -0.071623   \n",
       "retard_30_59_jours         -0.059181            1.000000            0.334404   \n",
       "retard_60_89_jours         -0.071623            0.334404            1.000000   \n",
       "DebtRatio                   0.023185            0.074832            0.069218   \n",
       "MonthlyIncome               0.104300           -0.043084           -0.068671   \n",
       "NumberOfTimes90DaysLate    -0.081438            0.252665            0.343429   \n",
       "Nbre_de_personnes_a_charge -0.214703            0.060616            0.057429   \n",
       "\n",
       "                            DebtRatio  MonthlyIncome  NumberOfTimes90DaysLate  \\\n",
       "age                          0.023185       0.104300                -0.081438   \n",
       "retard_30_59_jours           0.074832      -0.043084                 0.252665   \n",
       "retard_60_89_jours           0.069218      -0.068671                 0.343429   \n",
       "DebtRatio                    1.000000      -0.070944                 0.005793   \n",
       "MonthlyIncome               -0.070944       1.000000                -0.087186   \n",
       "NumberOfTimes90DaysLate      0.005793      -0.087186                 1.000000   \n",
       "Nbre_de_personnes_a_charge   0.004889       0.136243                 0.049767   \n",
       "\n",
       "                            Nbre_de_personnes_a_charge  \n",
       "age                                          -0.214703  \n",
       "retard_30_59_jours                            0.060616  \n",
       "retard_60_89_jours                            0.057429  \n",
       "DebtRatio                                     0.004889  \n",
       "MonthlyIncome                                 0.136243  \n",
       "NumberOfTimes90DaysLate                       0.049767  \n",
       "Nbre_de_personnes_a_charge                    1.000000  "
      ]
     },
     "execution_count": 105,
     "metadata": {},
     "output_type": "execute_result"
    }
   ],
   "source": [
    "# Correlations entre variables continues de la table de données\n",
    "df_correlation= df[['age', 'retard_30_59_jours', 'retard_60_89_jours', 'DebtRatio', 'MonthlyIncome', 'NumberOfTimes90DaysLate', 'Nbre_de_personnes_a_charge']]\n",
    "corrMatrix = df_correlation.corr()\n",
    "corrMatrix"
   ]
  },
  {
   "cell_type": "markdown",
   "metadata": {},
   "source": [
    "Commentaires sur la matrice de corrélation\n",
    "- Plus les clients sont agés, moins ils sont en retard (corrélation négative pour toutes les variables indiquant les retards). \n",
    "- De même, plus les personnes ont un revenu élévé, moins elles ont des retards de paiement et donc plus elles remboursent leur crédit. \n",
    "- La variable Nbre_de_personnes_a_charge  entretient avec les variable indiquant la qualité des clients une relation positive, les trois variables de retard. Ainsi, plus le client a de personnes sous sa responsabilité, moins il est enclin à rembourser son credit. \n",
    "\n",
    "Commentaires sur les croisements\n",
    "- Nous remarquons une préponderance de bons clients dans toutes les catégries d'ages. Et les mauvais clients ont en forte majorité entre 40 et 51 ans.\n",
    "- La plupart des clients ayant entre 0 à 2 personnes à charge sont des Bons clients. Mais aussi, la majorité des mauvais clients ont entre 0 à 2 personnes à charge."
   ]
  },
  {
   "cell_type": "markdown",
   "metadata": {
    "deletable": false,
    "editable": false,
    "nbgrader": {
     "cell_type": "markdown",
     "checksum": "fff6c52760787870af96b2cf1c581a1b",
     "grade": false,
     "grade_id": "cell-58df14dc9efbf1be",
     "locked": true,
     "schema_version": 3,
     "solution": false,
     "task": false
    }
   },
   "source": [
    "## Graphiques "
   ]
  },
  {
   "cell_type": "code",
   "execution_count": 106,
   "metadata": {
    "deletable": false,
    "nbgrader": {
     "cell_type": "code",
     "checksum": "8dac60aa97be14e3a7d03ddf62c40695",
     "grade": true,
     "grade_id": "cell-6b354ac6bccda4ad",
     "locked": false,
     "points": 1,
     "schema_version": 3,
     "solution": true,
     "task": false
    }
   },
   "outputs": [
    {
     "data": {
      "text/plain": [
       "<AxesSubplot:ylabel='Density'>"
      ]
     },
     "execution_count": 106,
     "metadata": {},
     "output_type": "execute_result"
    },
    {
     "data": {
      "image/png": "[encoded data removed]",
      "text/plain": [
       "<Figure size 432x288 with 1 Axes>"
      ]
     },
     "metadata": {
      "needs_background": "light"
     },
     "output_type": "display_data"
    }
   ],
   "source": [
    "df['MonthlyIncome'].plot.kde()"
   ]
  },
  {
   "cell_type": "code",
   "execution_count": 107,
   "metadata": {
    "deletable": false,
    "nbgrader": {
     "cell_type": "code",
     "checksum": "018a40bca2571846211b37a0a9ad91e0",
     "grade": true,
     "grade_id": "cell-0ed0e5cc54e509de",
     "locked": false,
     "points": 1,
     "schema_version": 3,
     "solution": true,
     "task": false
    }
   },
   "outputs": [
    {
     "data": {
      "text/plain": [
       "<AxesSubplot:ylabel='Frequency'>"
      ]
     },
     "execution_count": 107,
     "metadata": {},
     "output_type": "execute_result"
    },
    {
     "data": {
      "image/png": "[encoded data removed]",
      "text/plain": [
       "<Figure size 432x288 with 1 Axes>"
      ]
     },
     "metadata": {
      "needs_background": "light"
     },
     "output_type": "display_data"
    }
   ],
   "source": [
    "df['retard_30_59_jours'].plot.hist(grid=True, bins=10, rwidth=0.9,\n",
    "                   color='red')"
   ]
  },
  {
   "cell_type": "code",
   "execution_count": 108,
   "metadata": {
    "deletable": false,
    "nbgrader": {
     "cell_type": "code",
     "checksum": "16c23676ccf84a645d9187cf34e08b5a",
     "grade": true,
     "grade_id": "cell-d8b44982398c0943",
     "locked": false,
     "points": 1,
     "schema_version": 3,
     "solution": true,
     "task": false
    }
   },
   "outputs": [
    {
     "data": {
      "image/png": "[encoded data removed]",
      "text/plain": [
       "<Figure size 432x288 with 1 Axes>"
      ]
     },
     "metadata": {
      "needs_background": "light"
     },
     "output_type": "display_data"
    }
   ],
   "source": [
    "ax1=df.plot.scatter(x='Client_Qualite_Recode',y='DebtRatio', c='Red')\n"
   ]
  },
  {
   "cell_type": "markdown",
   "metadata": {},
   "source": [
    "Commentaires sur le 1er graphique\n",
    "- Le 1er graphique représente la distribution de probabilité de la variable Monthly Income. La distribution des revenus n'est pas uniforme parmi les clients. L'asymétrie dans la distribution montre qu'il y a probablement des inégalités parmi les clients. Après 5000, la distribution chute rapidement, ce qui veut dire que la majorité des clients ont un faible revenu.\n",
    "\n",
    "Commentaires sur le 2ème graphique\n",
    "- La majorité des clients ont accumulé entre 0 et 2 fois des retards entre 30-59 jours. Après 2 fois, la distribution chute fortement.\n",
    "\n",
    "Commentaires sur le 3ème graphique (Croisement entre 2 colonnes)\n",
    "- Les mauvais clients ont un ratio d'endettement beaucoup plus élevé que les bons clients."
   ]
  },
  {
   "cell_type": "markdown",
   "metadata": {},
   "source": [
    "CONCLUSION \n",
    "\n",
    "- Les données viennent de  Kaggle et concernent le credit Scoring \n",
    "- Nous avons passé en revue les données pour une vue globale \n",
    "- Le plus gros travail a été la phase de traitement des données\\\n",
    "    1.Nous avons du redéfinir le nom de certaines variables pour une meilleure compréhension\\\n",
    "    2.Nous avons traité les outliers et les valeurs manquantes\\\n",
    "    3.Nous avons discretisé deux variables (age et nombre de personnes à charge) pour renforcer les analyses\n",
    "-  Nous avons fait une analyse descriptive pour les variables continues et catégorielles \n",
    "- Nous avons fait des croisement pour faire ressortir la relation entre les caracteristiques des clients et leur qualité concernant les crédits \n",
    "- Nous avons aussi fait des graphes soit de manière ponctuelle au besoin, soit pour établir des relations entre les variables.  "
   ]
  },
  {
   "cell_type": "markdown",
   "metadata": {},
   "source": [
    "---"
   ]
  }
 ],
 "metadata": {
  "kernelspec": {
   "display_name": "Python 3",
   "language": "python",
   "name": "python3"
  },
  "language_info": {
   "codemirror_mode": {
    "name": "ipython",
    "version": 3
   },
   "file_extension": ".py",
   "mimetype": "text/x-python",
   "name": "python",
   "nbconvert_exporter": "python",
   "pygments_lexer": "ipython3",
   "version": "3.8.3"
  }
 },
 "nbformat": 4,
 "nbformat_minor": 4
}
